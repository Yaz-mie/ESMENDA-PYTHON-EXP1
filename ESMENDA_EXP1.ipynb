{
 "cells": [
  {
   "cell_type": "code",
   "execution_count": 51,
   "id": "ebb8a1a5-e4b7-4a42-8f4a-38952d1ac6d9",
   "metadata": {},
   "outputs": [
    {
     "name": "stdout",
     "output_type": "stream",
     "text": [
      "ehllo\n",
      "acehkr\n"
     ]
    }
   ],
   "source": [
    "def alphabet_soup(text):\n",
    "    return \"\".join(sorted(text))\n",
    "\n",
    "print(alphabet_soup(\"hello\"))\n",
    "print(alphabet_soup(\"hacker\"))"
   ]
  },
  {
   "cell_type": "code",
   "execution_count": 40,
   "id": "677d3cea-e36a-4171-9cec-276a4c7c35e9",
   "metadata": {},
   "outputs": [
    {
     "name": "stdout",
     "output_type": "stream",
     "text": [
      "Make me :)\n",
      "I am >:(\n",
      "She has a :D\n",
      "He is :(\n"
     ]
    }
   ],
   "source": [
    "def emotify(sentence):\n",
    "   \n",
    "    emoticons = {\"smile\": \":)\", \"grin\": \":D\", \"sad\": \":(\", \"mad\": \">:(\"}\n",
    "\n",
    "    words = sentence.split()  \n",
    "    result = [emoticons.get(word, word) for word in words]\n",
    "    return \" \".join(result)\n",
    "\n",
    "print(emotify(\"Make me smile\"))  \n",
    "print(emotify(\"I am mad\"))        \n",
    "print(emotify(\"She has a grin\"))  \n",
    "print(emotify(\"He is sad\"))      "
   ]
  },
  {
   "cell_type": "code",
   "execution_count": 50,
   "id": "4e0c5206-965f-40d3-9e12-30238868f573",
   "metadata": {},
   "outputs": [
    {
     "name": "stdout",
     "output_type": "stream",
     "text": [
      "first: 1\n",
      "middle: [2, 3, 5]\n",
      "last: 6\n"
     ]
    }
   ],
   "source": [
    "numbers = [1, 2, 3, 5, 6]\n",
    "\n",
    "\n",
    "first, *middle, last = numbers\n",
    "\n",
    "\n",
    "print(\"first:\", first)\n",
    "print(\"middle:\", middle)\n",
    "print(\"last:\", last)"
   ]
  }
 ],
 "metadata": {
  "kernelspec": {
   "display_name": "Python 3 (ipykernel)",
   "language": "python",
   "name": "python3"
  },
  "language_info": {
   "codemirror_mode": {
    "name": "ipython",
    "version": 3
   },
   "file_extension": ".py",
   "mimetype": "text/x-python",
   "name": "python",
   "nbconvert_exporter": "python",
   "pygments_lexer": "ipython3",
   "version": "3.13.5"
  }
 },
 "nbformat": 4,
 "nbformat_minor": 5
}
