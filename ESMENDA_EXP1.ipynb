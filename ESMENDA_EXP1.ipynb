{
 "cells": [
  {
   "cell_type": "code",
   "execution_count": 52,
   "id": "0151cd1c-dd2e-4db2-bffe-5c95b7d02844",
   "metadata": {},
   "outputs": [],
   "source": [
    "#Define the function alphabet_soup\n",
    "def alphabet_soup(text):\n",
    "    return \"\".join(sorted(text))"
   ]
  },
  {
   "cell_type": "code",
   "execution_count": 53,
   "id": "1c5ae20c-1d64-4982-b3ec-f6aa9201f209",
   "metadata": {},
   "outputs": [
    {
     "name": "stdout",
     "output_type": "stream",
     "text": [
      "ehllo\n"
     ]
    }
   ],
   "source": [
    "#Print output\n",
    "print(alphabet_soup(\"hello\"))"
   ]
  },
  {
   "cell_type": "code",
   "execution_count": 54,
   "id": "c17dcf7d-1176-4ae8-bb87-23b3be1e17ec",
   "metadata": {},
   "outputs": [
    {
     "name": "stdout",
     "output_type": "stream",
     "text": [
      "acehkr\n"
     ]
    }
   ],
   "source": [
    "#Print output\n",
    "print(alphabet_soup(\"hacker\"))"
   ]
  },
  {
   "cell_type": "code",
   "execution_count": 55,
   "id": "ebb8a1a5-e4b7-4a42-8f4a-38952d1ac6d9",
   "metadata": {},
   "outputs": [],
   "source": [
    "#Define function emotify\n",
    "def emotify(sentence):\n",
    "    emoticons = {\"smile\": \":)\", \"grin\": \":D\", \"sad\": \":(\", \"mad\": \">:(\"}\n",
    "    words = sentence.split() #Split the input sentence into a list of words\n",
    "    result = [emoticons.get(word, word) for word in words] #Replace each word with its corresponding emoticon\n",
    "    return \" \".join(result) #Join the processed words back into a single string and return it"
   ]
  },
  {
   "cell_type": "code",
   "execution_count": 56,
   "id": "237d0eea-7b23-40e1-85f0-ac693b4af708",
   "metadata": {},
   "outputs": [
    {
     "name": "stdout",
     "output_type": "stream",
     "text": [
      "Make me :)\n"
     ]
    }
   ],
   "source": [
    "#Print output\n",
    "print(emotify(\"Make me smile\"))  "
   ]
  },
  {
   "cell_type": "code",
   "execution_count": 57,
   "id": "3dd306f4-621a-4838-9b2c-dffae7059189",
   "metadata": {},
   "outputs": [
    {
     "name": "stdout",
     "output_type": "stream",
     "text": [
      "I am >:(\n"
     ]
    }
   ],
   "source": [
    "#Print output\n",
    "print(emotify(\"I am mad\"))        "
   ]
  },
  {
   "cell_type": "code",
   "execution_count": 58,
   "id": "bd744d4f-4180-4fdf-a06a-78ebbfdd8141",
   "metadata": {},
   "outputs": [
    {
     "name": "stdout",
     "output_type": "stream",
     "text": [
      "She is :D\n"
     ]
    }
   ],
   "source": [
    "#Print output\n",
    "print(emotify(\"She is grin\"))  "
   ]
  },
  {
   "cell_type": "code",
   "execution_count": 59,
   "id": "4cb09154-b469-4d4b-bd87-43b9fca78c30",
   "metadata": {},
   "outputs": [
    {
     "name": "stdout",
     "output_type": "stream",
     "text": [
      "He is :(\n"
     ]
    }
   ],
   "source": [
    "#Print output\n",
    "print(emotify(\"He is sad\"))"
   ]
  },
  {
   "cell_type": "code",
   "execution_count": 64,
   "id": "0dcabd3b-ee9f-4324-bb9f-270353d46a88",
   "metadata": {},
   "outputs": [],
   "source": [
    "#Define a list with 5 elements\n",
    "numbers = [1, 2, 3, 4, 5, 6]   \n",
    "\n",
    "first, *middle, last = numbers\n",
    "#'first' takes the first element (1),\n",
    "#'last' takes the last element (6),\n",
    "#'*middle' collects all elements in between [2, 3, 4, 5]."
   ]
  },
  {
   "cell_type": "code",
   "execution_count": 65,
   "id": "677d3cea-e36a-4171-9cec-276a4c7c35e9",
   "metadata": {},
   "outputs": [
    {
     "name": "stdout",
     "output_type": "stream",
     "text": [
      "first: 1\n"
     ]
    }
   ],
   "source": [
    "#Print output\n",
    "print(\"first:\", first)           "
   ]
  },
  {
   "cell_type": "code",
   "execution_count": 66,
   "id": "4e0c5206-965f-40d3-9e12-30238868f573",
   "metadata": {},
   "outputs": [
    {
     "name": "stdout",
     "output_type": "stream",
     "text": [
      "middle: [2, 3, 4, 5]\n"
     ]
    }
   ],
   "source": [
    "#Print output\n",
    "print(\"middle:\", middle)  "
   ]
  },
  {
   "cell_type": "code",
   "execution_count": 67,
   "id": "aba70a55-f3eb-4a31-a0f4-c489a9d8fa83",
   "metadata": {},
   "outputs": [
    {
     "name": "stdout",
     "output_type": "stream",
     "text": [
      "last: 6\n"
     ]
    }
   ],
   "source": [
    "#Print output\n",
    "print(\"last:\", last) "
   ]
  }
 ],
 "metadata": {
  "kernelspec": {
   "display_name": "Python 3 (ipykernel)",
   "language": "python",
   "name": "python3"
  },
  "language_info": {
   "codemirror_mode": {
    "name": "ipython",
    "version": 3
   },
   "file_extension": ".py",
   "mimetype": "text/x-python",
   "name": "python",
   "nbconvert_exporter": "python",
   "pygments_lexer": "ipython3",
   "version": "3.13.5"
  }
 },
 "nbformat": 4,
 "nbformat_minor": 5
}
